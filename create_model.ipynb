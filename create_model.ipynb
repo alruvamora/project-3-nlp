{
 "cells": [
  {
   "cell_type": "code",
   "execution_count": 102,
   "id": "cf6c6f06-4c94-4f94-9a19-fbc26027395d",
   "metadata": {},
   "outputs": [],
   "source": [
    "import pandas as pd\n",
    "import pickle\n",
    "import matplotlib.pyplot as plt\n",
    "from sklearn.model_selection import train_test_split\n",
    "from sklearn.feature_extraction.text import TfidfVectorizer\n",
    "from sklearn.linear_model import LogisticRegression\n",
    "from sklearn.metrics import classification_report, confusion_matrix, ConfusionMatrixDisplay"
   ]
  },
  {
   "cell_type": "code",
   "execution_count": 29,
   "id": "aff6e09c-bd29-4227-9f03-d85a89045e5a",
   "metadata": {},
   "outputs": [],
   "source": [
    "# 1. Load the training data\n",
    "train_file = 'dataset/training_data.csv'\n",
    "data = pd.read_csv(train_file, sep='\\t',header=None, index_col=None)\n",
    "data = data.replace(r'\\t', ' ', regex=True)"
   ]
  },
  {
   "cell_type": "code",
   "execution_count": 35,
   "id": "c4ac7df7-7658-4527-9284-56005b119a56",
   "metadata": {},
   "outputs": [],
   "source": [
    "data.columns = [\"label\",\"headline\"]"
   ]
  },
  {
   "cell_type": "code",
   "execution_count": 37,
   "id": "a9858b36-c5a7-44d5-9951-f3e12dcab942",
   "metadata": {},
   "outputs": [
    {
     "data": {
      "text/html": [
       "<div>\n",
       "<style scoped>\n",
       "    .dataframe tbody tr th:only-of-type {\n",
       "        vertical-align: middle;\n",
       "    }\n",
       "\n",
       "    .dataframe tbody tr th {\n",
       "        vertical-align: top;\n",
       "    }\n",
       "\n",
       "    .dataframe thead th {\n",
       "        text-align: right;\n",
       "    }\n",
       "</style>\n",
       "<table border=\"1\" class=\"dataframe\">\n",
       "  <thead>\n",
       "    <tr style=\"text-align: right;\">\n",
       "      <th></th>\n",
       "      <th>label</th>\n",
       "      <th>headline</th>\n",
       "    </tr>\n",
       "  </thead>\n",
       "  <tbody>\n",
       "    <tr>\n",
       "      <th>34132</th>\n",
       "      <td>1</td>\n",
       "      <td>under trump plan refugees from 11 countries fa...</td>\n",
       "    </tr>\n",
       "    <tr>\n",
       "      <th>34133</th>\n",
       "      <td>1</td>\n",
       "      <td>britain aiming for outline brexit transition d...</td>\n",
       "    </tr>\n",
       "    <tr>\n",
       "      <th>34134</th>\n",
       "      <td>1</td>\n",
       "      <td>ugandan mps get $8000 each for work on extendi...</td>\n",
       "    </tr>\n",
       "    <tr>\n",
       "      <th>34135</th>\n",
       "      <td>1</td>\n",
       "      <td>restoring legality in catalonia is spanish gov...</td>\n",
       "    </tr>\n",
       "    <tr>\n",
       "      <th>34136</th>\n",
       "      <td>1</td>\n",
       "      <td>an independent catalonia would be out of the e...</td>\n",
       "    </tr>\n",
       "    <tr>\n",
       "      <th>34137</th>\n",
       "      <td>1</td>\n",
       "      <td>plague kills 124 in madagascar cities most aff...</td>\n",
       "    </tr>\n",
       "    <tr>\n",
       "      <th>34138</th>\n",
       "      <td>1</td>\n",
       "      <td>india agrees to hold talks on afghanistan with...</td>\n",
       "    </tr>\n",
       "    <tr>\n",
       "      <th>34139</th>\n",
       "      <td>1</td>\n",
       "      <td>families returning to ruined philippine city t...</td>\n",
       "    </tr>\n",
       "    <tr>\n",
       "      <th>34140</th>\n",
       "      <td>1</td>\n",
       "      <td>greens say no support for macron's ez budget i...</td>\n",
       "    </tr>\n",
       "    <tr>\n",
       "      <th>34141</th>\n",
       "      <td>1</td>\n",
       "      <td>spain aims to avoid economic damage to catalon...</td>\n",
       "    </tr>\n",
       "    <tr>\n",
       "      <th>34142</th>\n",
       "      <td>1</td>\n",
       "      <td>french government spokesman gets macron's back...</td>\n",
       "    </tr>\n",
       "    <tr>\n",
       "      <th>34143</th>\n",
       "      <td>1</td>\n",
       "      <td>australia campuses warned of 'clandestine' inf...</td>\n",
       "    </tr>\n",
       "    <tr>\n",
       "      <th>34144</th>\n",
       "      <td>1</td>\n",
       "      <td>south korea court appoints new defense team fo...</td>\n",
       "    </tr>\n",
       "    <tr>\n",
       "      <th>34145</th>\n",
       "      <td>1</td>\n",
       "      <td>iraq readies for final offensive on islamic st...</td>\n",
       "    </tr>\n",
       "    <tr>\n",
       "      <th>34146</th>\n",
       "      <td>1</td>\n",
       "      <td>indonesia arrests nine with alleged islamic st...</td>\n",
       "    </tr>\n",
       "    <tr>\n",
       "      <th>34147</th>\n",
       "      <td>1</td>\n",
       "      <td>tears in rain as thais gather for late king's ...</td>\n",
       "    </tr>\n",
       "    <tr>\n",
       "      <th>34148</th>\n",
       "      <td>1</td>\n",
       "      <td>pyongyang university needs non-u.s. teachers a...</td>\n",
       "    </tr>\n",
       "    <tr>\n",
       "      <th>34149</th>\n",
       "      <td>1</td>\n",
       "      <td>philippine president duterte to visit japan ah...</td>\n",
       "    </tr>\n",
       "    <tr>\n",
       "      <th>34150</th>\n",
       "      <td>1</td>\n",
       "      <td>japan's abe may have won election but many don...</td>\n",
       "    </tr>\n",
       "    <tr>\n",
       "      <th>34151</th>\n",
       "      <td>1</td>\n",
       "      <td>demoralized and divided: inside catalonia's po...</td>\n",
       "    </tr>\n",
       "  </tbody>\n",
       "</table>\n",
       "</div>"
      ],
      "text/plain": [
       "       label                                           headline\n",
       "34132      1  under trump plan refugees from 11 countries fa...\n",
       "34133      1  britain aiming for outline brexit transition d...\n",
       "34134      1  ugandan mps get $8000 each for work on extendi...\n",
       "34135      1  restoring legality in catalonia is spanish gov...\n",
       "34136      1  an independent catalonia would be out of the e...\n",
       "34137      1  plague kills 124 in madagascar cities most aff...\n",
       "34138      1  india agrees to hold talks on afghanistan with...\n",
       "34139      1  families returning to ruined philippine city t...\n",
       "34140      1  greens say no support for macron's ez budget i...\n",
       "34141      1  spain aims to avoid economic damage to catalon...\n",
       "34142      1  french government spokesman gets macron's back...\n",
       "34143      1  australia campuses warned of 'clandestine' inf...\n",
       "34144      1  south korea court appoints new defense team fo...\n",
       "34145      1  iraq readies for final offensive on islamic st...\n",
       "34146      1  indonesia arrests nine with alleged islamic st...\n",
       "34147      1  tears in rain as thais gather for late king's ...\n",
       "34148      1  pyongyang university needs non-u.s. teachers a...\n",
       "34149      1  philippine president duterte to visit japan ah...\n",
       "34150      1  japan's abe may have won election but many don...\n",
       "34151      1  demoralized and divided: inside catalonia's po..."
      ]
     },
     "execution_count": 37,
     "metadata": {},
     "output_type": "execute_result"
    }
   ],
   "source": [
    "# Inspect the data\n",
    "data.tail(20)"
   ]
  },
  {
   "cell_type": "code",
   "execution_count": 43,
   "id": "837d0905-042f-4e10-bcab-be10d94efa26",
   "metadata": {},
   "outputs": [
    {
     "name": "stdout",
     "output_type": "stream",
     "text": [
      "              precision    recall  f1-score   support\n",
      "\n",
      "           0       0.94      0.92      0.93      3515\n",
      "           1       0.92      0.94      0.93      3316\n",
      "\n",
      "    accuracy                           0.93      6831\n",
      "   macro avg       0.93      0.93      0.93      6831\n",
      "weighted avg       0.93      0.93      0.93      6831\n",
      "\n"
     ]
    }
   ],
   "source": [
    "# Separate features and labels\n",
    "X = data['headline'] # Column with headlines\n",
    "y = data['label'] # Column with labels (0 or 1)\n",
    "\n",
    "# 2. Split the data into training and test sets\n",
    "X_train, X_test, y_train, y_test = train_test_split(X, y, test_size=0.2, random_state=42, stratify=y)\n",
    "\n",
    "# 3. Text preprocessing with TF-IDF\n",
    "vectorizer = TfidfVectorizer(stop_words='english', max_features=5000)\n",
    "X_train_tfidf = vectorizer.fit_transform(X_train)\n",
    "X_test_tfidf = vectorizer.transform(X_test)\n",
    "\n",
    "# 4. Train a logistic regression model\n",
    "model = LogisticRegression(random_state=42)\n",
    "model.fit(X_train_tfidf, y_train)"
   ]
  },
  {
   "cell_type": "code",
   "execution_count": 111,
   "id": "f51054ac-6218-4096-8911-73641e0fa4a4",
   "metadata": {},
   "outputs": [
    {
     "name": "stdout",
     "output_type": "stream",
     "text": [
      "              precision    recall  f1-score   support\n",
      "\n",
      "           0       0.94      0.92      0.93      3515\n",
      "           1       0.92      0.94      0.93      3316\n",
      "\n",
      "    accuracy                           0.93      6831\n",
      "   macro avg       0.93      0.93      0.93      6831\n",
      "weighted avg       0.93      0.93      0.93      6831\n",
      "\n"
     ]
    },
    {
     "data": {
      "text/plain": [
       "<Figure size 800x600 with 0 Axes>"
      ]
     },
     "metadata": {},
     "output_type": "display_data"
    },
    {
     "data": {
      "image/png": "[encoded data removed]",
      "text/plain": [
       "<Figure size 640x480 with 2 Axes>"
      ]
     },
     "metadata": {},
     "output_type": "display_data"
    }
   ],
   "source": [
    "# 5. Evaluate the model\n",
    "y_pred = model.predict(X_test_tfidf)\n",
    "print(classification_report(y_test, y_pred))\n",
    "cm = confusion_matrix(y_test, y_pred)\n",
    "disp = ConfusionMatrixDisplay(confusion_matrix=cm, display_labels=['0', '1'])  # Cambia las etiquetas según sea necesario\n",
    "plt.figure(figsize=(8, 6))\n",
    "disp.plot(cmap='Oranges')\n",
    "plt.grid(True)\n",
    "plt.title('Matriz de Confusión')\n",
    "plt.show()"
   ]
  },
  {
   "cell_type": "code",
   "execution_count": null,
   "id": "b5782c38-7482-4dd3-a8aa-2284e2c46904",
   "metadata": {},
   "outputs": [],
   "source": [
    "# 6. Save the model and the vectorizer\n",
    "with open('news_classifier.pkl', 'wb') as model_file:\n",
    "    pickle.dump(model, model_file)\n",
    "\n",
    "with open('tfidf_vectorizer.pkl', 'wb') as vectorizer_file:\n",
    "    pickle.dump(vectorizer, vectorizer_file)"
   ]
  }
 ],
 "metadata": {
  "kernelspec": {
   "display_name": "Python 3 (ipykernel)",
   "language": "python",
   "name": "python3"
  },
  "language_info": {
   "codemirror_mode": {
    "name": "ipython",
    "version": 3
   },
   "file_extension": ".py",
   "mimetype": "text/x-python",
   "name": "python",
   "nbconvert_exporter": "python",
   "pygments_lexer": "ipython3",
   "version": "3.12.7"
  }
 },
 "nbformat": 4,
 "nbformat_minor": 5
}
